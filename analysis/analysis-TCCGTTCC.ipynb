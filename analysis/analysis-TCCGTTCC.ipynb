{
 "cells": [
  {
   "cell_type": "code",
   "execution_count": 3,
   "metadata": {},
   "outputs": [],
   "source": [
    "import pandas as pd\n",
    "import numpy as np\n",
    "import matplotlib.pyplot as plt\n",
    "\n",
    "\n",
    "INPUT_FILE = 'top-400000.TCCGTTCC'\n"
   ]
  },
  {
   "cell_type": "code",
   "execution_count": 4,
   "metadata": {},
   "outputs": [
    {
     "data": {
      "text/html": [
       "<div>\n",
       "<style scoped>\n",
       "    .dataframe tbody tr th:only-of-type {\n",
       "        vertical-align: middle;\n",
       "    }\n",
       "\n",
       "    .dataframe tbody tr th {\n",
       "        vertical-align: top;\n",
       "    }\n",
       "\n",
       "    .dataframe thead th {\n",
       "        text-align: right;\n",
       "    }\n",
       "</style>\n",
       "<table border=\"1\" class=\"dataframe\">\n",
       "  <thead>\n",
       "    <tr style=\"text-align: right;\">\n",
       "      <th></th>\n",
       "      <th>offset</th>\n",
       "      <th>mer</th>\n",
       "      <th>count</th>\n",
       "    </tr>\n",
       "  </thead>\n",
       "  <tbody>\n",
       "    <tr>\n",
       "      <th>0</th>\n",
       "      <td>0</td>\n",
       "      <td>GTATATAC</td>\n",
       "      <td>36</td>\n",
       "    </tr>\n",
       "    <tr>\n",
       "      <th>1</th>\n",
       "      <td>0</td>\n",
       "      <td>GCACACCC</td>\n",
       "      <td>7</td>\n",
       "    </tr>\n",
       "    <tr>\n",
       "      <th>2</th>\n",
       "      <td>0</td>\n",
       "      <td>TGTAGCCT</td>\n",
       "      <td>1</td>\n",
       "    </tr>\n",
       "    <tr>\n",
       "      <th>3</th>\n",
       "      <td>0</td>\n",
       "      <td>ACCTCCAG</td>\n",
       "      <td>4</td>\n",
       "    </tr>\n",
       "    <tr>\n",
       "      <th>4</th>\n",
       "      <td>0</td>\n",
       "      <td>CTTCTACC</td>\n",
       "      <td>7</td>\n",
       "    </tr>\n",
       "    <tr>\n",
       "      <th>...</th>\n",
       "      <td>...</td>\n",
       "      <td>...</td>\n",
       "      <td>...</td>\n",
       "    </tr>\n",
       "    <tr>\n",
       "      <th>15944723</th>\n",
       "      <td>320</td>\n",
       "      <td>TANNNNNN</td>\n",
       "      <td>14266</td>\n",
       "    </tr>\n",
       "    <tr>\n",
       "      <th>15944724</th>\n",
       "      <td>320</td>\n",
       "      <td>CNNNNNNN</td>\n",
       "      <td>2</td>\n",
       "    </tr>\n",
       "    <tr>\n",
       "      <th>15944725</th>\n",
       "      <td>320</td>\n",
       "      <td>TNNNNNNN</td>\n",
       "      <td>1</td>\n",
       "    </tr>\n",
       "    <tr>\n",
       "      <th>15944726</th>\n",
       "      <td>320</td>\n",
       "      <td>AGNNNNNN</td>\n",
       "      <td>18767</td>\n",
       "    </tr>\n",
       "    <tr>\n",
       "      <th>15944727</th>\n",
       "      <td>320</td>\n",
       "      <td>TGNNNNNN</td>\n",
       "      <td>27591</td>\n",
       "    </tr>\n",
       "  </tbody>\n",
       "</table>\n",
       "<p>15944728 rows × 3 columns</p>\n",
       "</div>"
      ],
      "text/plain": [
       "          offset       mer  count\n",
       "0              0  GTATATAC     36\n",
       "1              0  GCACACCC      7\n",
       "2              0  TGTAGCCT      1\n",
       "3              0  ACCTCCAG      4\n",
       "4              0  CTTCTACC      7\n",
       "...          ...       ...    ...\n",
       "15944723     320  TANNNNNN  14266\n",
       "15944724     320  CNNNNNNN      2\n",
       "15944725     320  TNNNNNNN      1\n",
       "15944726     320  AGNNNNNN  18767\n",
       "15944727     320  TGNNNNNN  27591\n",
       "\n",
       "[15944728 rows x 3 columns]"
      ]
     },
     "execution_count": 4,
     "metadata": {},
     "output_type": "execute_result"
    }
   ],
   "source": [
    "df = pd.read_csv(INPUT_FILE, sep='\\t')\n",
    "df.columns=[\"offset\",\"mer\",\"count\"] \n",
    "\n",
    "df.shape\n",
    "\n",
    "df"
   ]
  },
  {
   "cell_type": "code",
   "execution_count": 5,
   "metadata": {},
   "outputs": [
    {
     "data": {
      "text/html": [
       "<div>\n",
       "<style scoped>\n",
       "    .dataframe tbody tr th:only-of-type {\n",
       "        vertical-align: middle;\n",
       "    }\n",
       "\n",
       "    .dataframe tbody tr th {\n",
       "        vertical-align: top;\n",
       "    }\n",
       "\n",
       "    .dataframe thead th {\n",
       "        text-align: right;\n",
       "    }\n",
       "</style>\n",
       "<table border=\"1\" class=\"dataframe\">\n",
       "  <thead>\n",
       "    <tr style=\"text-align: right;\">\n",
       "      <th></th>\n",
       "      <th>count</th>\n",
       "      <th>position</th>\n",
       "    </tr>\n",
       "  </thead>\n",
       "  <tbody>\n",
       "    <tr>\n",
       "      <th>144</th>\n",
       "      <td>55516</td>\n",
       "      <td>144</td>\n",
       "    </tr>\n",
       "    <tr>\n",
       "      <th>145</th>\n",
       "      <td>55345</td>\n",
       "      <td>145</td>\n",
       "    </tr>\n",
       "    <tr>\n",
       "      <th>294</th>\n",
       "      <td>55154</td>\n",
       "      <td>294</td>\n",
       "    </tr>\n",
       "    <tr>\n",
       "      <th>289</th>\n",
       "      <td>55069</td>\n",
       "      <td>289</td>\n",
       "    </tr>\n",
       "    <tr>\n",
       "      <th>292</th>\n",
       "      <td>55068</td>\n",
       "      <td>292</td>\n",
       "    </tr>\n",
       "    <tr>\n",
       "      <th>...</th>\n",
       "      <td>...</td>\n",
       "      <td>...</td>\n",
       "    </tr>\n",
       "    <tr>\n",
       "      <th>153</th>\n",
       "      <td>3076</td>\n",
       "      <td>153</td>\n",
       "    </tr>\n",
       "    <tr>\n",
       "      <th>317</th>\n",
       "      <td>1034</td>\n",
       "      <td>317</td>\n",
       "    </tr>\n",
       "    <tr>\n",
       "      <th>318</th>\n",
       "      <td>265</td>\n",
       "      <td>318</td>\n",
       "    </tr>\n",
       "    <tr>\n",
       "      <th>319</th>\n",
       "      <td>66</td>\n",
       "      <td>319</td>\n",
       "    </tr>\n",
       "    <tr>\n",
       "      <th>320</th>\n",
       "      <td>18</td>\n",
       "      <td>320</td>\n",
       "    </tr>\n",
       "  </tbody>\n",
       "</table>\n",
       "<p>321 rows × 2 columns</p>\n",
       "</div>"
      ],
      "text/plain": [
       "     count  position\n",
       "144  55516       144\n",
       "145  55345       145\n",
       "294  55154       294\n",
       "289  55069       289\n",
       "292  55068       292\n",
       "..     ...       ...\n",
       "153   3076       153\n",
       "317   1034       317\n",
       "318    265       318\n",
       "319     66       319\n",
       "320     18       320\n",
       "\n",
       "[321 rows x 2 columns]"
      ]
     },
     "execution_count": 5,
     "metadata": {},
     "output_type": "execute_result"
    }
   ],
   "source": [
    "\n",
    "position_counts = df['offset'].value_counts().to_frame()\n",
    "position_counts.rename(columns={'offset': 'count'}, inplace=True)\n",
    "position_counts['position'] = position_counts.index\n",
    "\n",
    "position_counts"
   ]
  },
  {
   "cell_type": "code",
   "execution_count": 6,
   "metadata": {},
   "outputs": [
    {
     "data": {
      "image/png": "[encoded data removed]",
      "text/plain": [
       "<Figure size 2160x720 with 1 Axes>"
      ]
     },
     "metadata": {
      "needs_background": "light"
     },
     "output_type": "display_data"
    }
   ],
   "source": [
    "fig = position_counts.sort_values('position') .plot(x='position', y='count', kind='bar', figsize=(30,10), color='#006699')"
   ]
  },
  {
   "cell_type": "code",
   "execution_count": 7,
   "metadata": {},
   "outputs": [],
   "source": [
    "fig.get_figure().savefig(INPUT_FILE+'-position_counts.png')"
   ]
  },
  {
   "cell_type": "code",
   "execution_count": 8,
   "metadata": {},
   "outputs": [],
   "source": [
    "potentialpositions = position_counts.loc[position_counts['count'] < 50000].sort_values('count', ascending=True)\n"
   ]
  },
  {
   "cell_type": "code",
   "execution_count": 9,
   "metadata": {},
   "outputs": [],
   "source": [
    "potentialpositions = potentialpositions['position'].to_list()"
   ]
  },
  {
   "cell_type": "code",
   "execution_count": 10,
   "metadata": {},
   "outputs": [
    {
     "name": "stdout",
     "output_type": "stream",
     "text": [
      "320:0\n",
      "319:0\n",
      "318:0\n",
      "317:0\n",
      "153:1\n",
      "152:1\n",
      "151:0\n",
      "154:1\n",
      "155:2\n",
      "316:0\n",
      "150:1\n",
      "156:1\n",
      "149:1\n",
      "157:1\n",
      "158:2\n",
      "159:2\n",
      "148:2\n",
      "160:1\n",
      "315:0\n",
      "164:2\n",
      "165:3\n",
      "163:2\n",
      "162:3\n",
      "161:7\n",
      "166:4\n",
      "147:3\n",
      "167:4\n",
      "168:5\n",
      "171:5\n",
      "0:7\n",
      "172:6\n",
      "3:5\n",
      "170:5\n",
      "174:5\n",
      "173:5\n",
      "2:4\n",
      "1:5\n",
      "169:5\n",
      "4:4\n",
      "175:4\n",
      "5:5\n",
      "146:4\n",
      "176:5\n",
      "6:4\n",
      "177:5\n",
      "7:5\n",
      "178:5\n",
      "8:5\n",
      "179:5\n"
     ]
    }
   ],
   "source": [
    "biodynamiindexes = [\"TCCGTTCC\", \"GGCAAACG\", \"TCCTACGG\", \"GTATCATC\", \"GAGGCTAC\", \"GTAAGCGA\", \"GTCCTTCT\"]\n",
    "\n",
    "for i in potentialpositions:\n",
    "    onefivethree = df.loc[df['offset'] == i]\n",
    "    total = onefivethree.loc[onefivethree['mer'].isin(biodynamiindexes)]\n",
    "    print(str(i)+\":\" +str(total.shape[0]))"
   ]
  },
  {
   "cell_type": "code",
   "execution_count": null,
   "metadata": {},
   "outputs": [],
   "source": []
  }
 ],
 "metadata": {
  "interpreter": {
   "hash": "aee8b7b246df8f9039afb4144a1f6fd8d2ca17a180786b69acc140d282b71a49"
  },
  "kernelspec": {
   "display_name": "Python 3.9.9 64-bit",
   "language": "python",
   "name": "python3"
  },
  "language_info": {
   "codemirror_mode": {
    "name": "ipython",
    "version": 3
   },
   "file_extension": ".py",
   "mimetype": "text/x-python",
   "name": "python",
   "nbconvert_exporter": "python",
   "pygments_lexer": "ipython3",
   "version": "3.9.9"
  },
  "orig_nbformat": 4
 },
 "nbformat": 4,
 "nbformat_minor": 2
}
